{
 "cells": [
  {
   "cell_type": "code",
   "execution_count": 1,
   "id": "1400428d",
   "metadata": {},
   "outputs": [],
   "source": [
    "from state import State"
   ]
  },
  {
   "cell_type": "code",
   "execution_count": 2,
   "id": "76d6a7c6",
   "metadata": {},
   "outputs": [],
   "source": [
    "s = [0, 0, 0, 0, 0, 0, 0, 0, 0, 1]\n",
    "S = State(s)"
   ]
  },
  {
   "cell_type": "code",
   "execution_count": 3,
   "id": "e99eefe5",
   "metadata": {},
   "outputs": [
    {
     "data": {
      "text/plain": [
       "<state.State at 0x10388a010>"
      ]
     },
     "execution_count": 3,
     "metadata": {},
     "output_type": "execute_result"
    }
   ],
   "source": [
    "S"
   ]
  },
  {
   "cell_type": "code",
   "execution_count": 4,
   "id": "ac47107f",
   "metadata": {},
   "outputs": [
    {
     "name": "stdout",
     "output_type": "stream",
     "text": [
      "0.006167 ms\n"
     ]
    },
    {
     "data": {
      "text/plain": [
       "['a1', 'a2', 'a3', 'b1', 'b2', 'b3', 'c1', 'c2', 'c3']"
      ]
     },
     "execution_count": 4,
     "metadata": {},
     "output_type": "execute_result"
    }
   ],
   "source": [
    "S.legal_moves()"
   ]
  },
  {
   "cell_type": "code",
   "execution_count": null,
   "id": "c8989a6d",
   "metadata": {},
   "outputs": [],
   "source": []
  }
 ],
 "metadata": {
  "kernelspec": {
   "display_name": "Python 3 (ipykernel)",
   "language": "python",
   "name": "python3"
  },
  "language_info": {
   "codemirror_mode": {
    "name": "ipython",
    "version": 3
   },
   "file_extension": ".py",
   "mimetype": "text/x-python",
   "name": "python",
   "nbconvert_exporter": "python",
   "pygments_lexer": "ipython3",
   "version": "3.11.8"
  }
 },
 "nbformat": 4,
 "nbformat_minor": 5
}
